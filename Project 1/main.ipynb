{
 "cells": [
  {
   "cell_type": "code",
   "execution_count": 82,
   "metadata": {
    "collapsed": false
   },
   "outputs": [
   ],
   "source": [
    "import numpy as np\n",
    "import math\n",
    "from heapq import heappush, heappop\n",
    "from bisect import bisect, insort"
   ]
  },
  {
   "cell_type": "code",
   "execution_count": 113,
   "metadata": {
    "collapsed": false
   },
   "outputs": [
   ],
   "source": [
    "File_data = np.loadtxt(\"source1.txt\", dtype=int)\n",
    "File_data2 = np.loadtxt(\"source2.txt\", dtype=int)\n",
    "File_data3 = np.loadtxt(\"source3.txt\", dtype=int)\n",
    "File_data4 = np.loadtxt(\"source4.txt\", dtype=int)\n",
    "File_data5 = np.loadtxt(\"source5.txt\", dtype=int)"
   ]
  },
  {
   "cell_type": "code",
   "execution_count": 114,
   "metadata": {
    "collapsed": false
   },
   "outputs": [
   ],
   "source": [
    "size = len(File_data)\n",
    "Heap_total_rank = [None]*size\n",
    "Merge_total_rank = [None]*size\n",
    "Quick_total_rank = [None]*size"
   ]
  },
  {
   "cell_type": "code",
   "execution_count": 115,
   "metadata": {
    "collapsed": false
   },
   "outputs": [
   ],
   "source": [
    "for i in range(size):\n",
    "    Heap_total_rank[i] = File_data[i]+File_data2[i]+File_data3[i]+File_data4[i]+File_data5[i]\n",
    "    Merge_total_rank[i] = File_data[i]+File_data2[i]+File_data3[i]+File_data4[i]+File_data5[i]\n",
    "    Quick_total_rank[i] = File_data[i]+File_data2[i]+File_data3[i]+File_data4[i]+File_data5[i]\n",
    "\n",
    "Heap_total_rank_postion = np.argsort(Heap_total_rank)\n",
    "Merge_total_rank_position = np.argsort(Merge_total_rank)\n",
    "Quick_total_rank_position = np.argsort(Quick_total_rank)"
   ]
  },
  {
   "cell_type": "code",
   "execution_count": 116,
   "metadata": {
    "collapsed": false
   },
   "outputs": [
   ],
   "source": [
    "def file_adjuster(arr, index, n):\n",
    "\n",
    "    temp = [0] * n;\n",
    "\n",
    "    for i in range(0,n):\n",
    "        temp[index[i]] = arr[i]\n",
    "\n",
    "    for i in range(0,n):\n",
    "        arr[i] = temp[i]\n",
    "        index[i] = i\n",
    "    return arr\n"
   ]
  },
  {
   "cell_type": "code",
   "execution_count": 117,
   "metadata": {
    "collapsed": false
   },
   "outputs": [
   ],
   "source": [
    "x = len(Merge_total_rank_position)\n",
    "file1_adjustment = file_adjuster(File_data, Merge_total_rank_position, x)\n",
    "file2_adjustment = file_adjuster(File_data2, Merge_total_rank_position, x)\n",
    "file3_adjustment = file_adjuster(File_data3, Merge_total_rank_position, x)\n",
    "file4_adjustment = file_adjuster(File_data4, Merge_total_rank_position, x)\n",
    "file5_adjustment = file_adjuster(File_data5, Merge_total_rank_position, x)"
   ]
  },
  {
   "cell_type": "code",
   "execution_count": 118,
   "metadata": {
    "collapsed": false
   },
   "outputs": [
   ],
   "source": [
    "def Quick_count(Quick_array, length):\n",
    "    quick_count = 0\n",
    "    for index in range(length):\n",
    "        for index_2 in range(index + 1, length):\n",
    "            if (Quick_array[index] > Quick_array[index_2]):\n",
    "                quick_count += 1\n",
    "    return quick_count\n",
    "\n",
    "def Quick_Sort(Quick_Sort_Array, minimum,maximum):\n",
    "    if minimum < maximum:\n",
    "        pivot_index = quick_sort_partition(Quick_Sort_Array, minimum, maximum)\n",
    "\n",
    "        Quick_Sort(Quick_Sort_Array, minimum, pivot_index - 1)\n",
    "\n",
    "        Quick_Sort(Quick_Sort_Array, pivot_index + 1, maximum)\n",
    "\n",
    "def quick_sort_partition(Quick_Sort_Array, minimum, maximum):\n",
    "    pivot = Quick_Sort_Array[maximum]\n",
    "    pointer = minimum - 1\n",
    "\n",
    "    for i in range(minimum, maximum):\n",
    "        if Quick_Sort_Array[i] <= pivot:\n",
    "            pointer = pointer + 1\n",
    "            (Quick_Sort_Array[pointer], Quick_Sort_Array[i]) = (Quick_Sort_Array[i], Quick_Sort_Array[pointer])\n",
    "\n",
    "    (Quick_Sort_Array[pointer + 1], Quick_Sort_Array[maximum]) = (Quick_Sort_Array[maximum], Quick_Sort_Array[pointer + 1])\n",
    "\n",
    "    return pointer + 1\n"
   ]
  },
  {
   "cell_type": "code",
   "execution_count": 119,
   "metadata": {
    "collapsed": false
   },
   "outputs": [
    {
     "name": "stdout",
     "output_type": "stream",
     "text": [
      "Number of Quicksort Inversions Is: 25160066\n"
     ]
    }
   ],
   "source": [
    "print(f\"Number of Quicksort Inversions Is: {Quick_count(Quick_total_rank, len(Quick_total_rank))}\")\n",
    "Quick_Sort(Quick_total_rank,0,len(Quick_total_rank)-1)"
   ]
  },
  {
   "cell_type": "code",
   "execution_count": 120,
   "metadata": {
    "collapsed": false,
    "scrolled": true
   },
   "outputs": [
    {
     "name": "stdout",
     "output_type": "stream",
     "text": [
      "Number of Merge Inversions Is:  25160066\n"
     ]
    }
   ],
   "source": [
    "def mergeSort(Merge_total_rank, length):\n",
    "\n",
    "    temp_arr = [0] * length\n",
    "    return _mergeSort(Merge_total_rank, temp_arr,\n",
    "                      0, length - 1)\n",
    "\n",
    "def _mergeSort(Merge_total_rank, temp_arr, left, right):\n",
    "\n",
    "    inversion_count = 0\n",
    "\n",
    "    if left < right:\n",
    "        mid = (left + right) // 2\n",
    "        inversion_count += _mergeSort(Merge_total_rank, temp_arr,\n",
    "                                left, mid)\n",
    "\n",
    "        inversion_count += _mergeSort(Merge_total_rank, temp_arr,\n",
    "                                mid + 1, right)\n",
    "        \n",
    "        inversion_count += merge(Merge_total_rank, temp_arr,\n",
    "                           left, mid, right)\n",
    "    return inversion_count\n",
    "\n",
    "\n",
    "def merge(Merge_total_rank, temp_arr, left, mid, right):\n",
    "\n",
    "    i = left\n",
    "    j = mid + 1\n",
    "    k = left\n",
    "    inversion_count = 0\n",
    "    while i <= mid and j <= right:\n",
    "\n",
    "        if Merge_total_rank[i] <= Merge_total_rank[j]:\n",
    "            temp_arr[k] = Merge_total_rank[i]\n",
    "            k += 1\n",
    "            i += 1\n",
    "        else:\n",
    "\n",
    "\n",
    "            temp_arr[k] = Merge_total_rank[j]\n",
    "            inversion_count += (mid - i + 1)\n",
    "            k += 1\n",
    "            j += 1\n",
    "\n",
    "    while i <= mid:\n",
    "        temp_arr[k] = Merge_total_rank[i]\n",
    "        k += 1\n",
    "        i += 1\n",
    "\n",
    "    while j <= right:\n",
    "        temp_arr[k] = Merge_total_rank[j]\n",
    "        k += 1\n",
    "        j += 1\n",
    "\n",
    "    for loop_var in range(left, right + 1):\n",
    "        Merge_total_rank[loop_var] = temp_arr[loop_var]\n",
    "\n",
    "    return inversion_count\n",
    "\n",
    "\n",
    "length = len(Merge_total_rank)\n",
    "result = mergeSort(Merge_total_rank, length)\n",
    "print(\"Number of Merge Inversions Is: \", result)\n",
    "\n"
   ]
  },
  {
   "cell_type": "code",
   "execution_count": 121,
   "metadata": {
    "collapsed": false
   },
   "outputs": [
   ],
   "source": [
    "def getNumOfInversions(Heap_total_rank):\n",
    "    length = len(Heap_total_rank)\n",
    "    if length <= 1:\n",
    "        return 0\n",
    "\n",
    "    sortList = []\n",
    "    result = 0\n",
    "\n",
    "\n",
    "    for i, v in enumerate(Heap_total_rank):\n",
    "        heappush(sortList, (v, i))\n",
    "\n",
    "\n",
    "    x = []\n",
    "    while sortList:\n",
    "\n",
    "        v, i = heappop(sortList)\n",
    "\n",
    "\n",
    "        y = bisect(x, i)\n",
    "\n",
    "        result += i - y\n",
    "\n",
    "        insort(x, i)\n",
    "\n",
    "    return result"
   ]
  },
  {
   "cell_type": "code",
   "execution_count": 122,
   "metadata": {
    "collapsed": false
   },
   "outputs": [
    {
     "name": "stdout",
     "output_type": "stream",
     "text": [
      "Number of Heap Inversions Is:  25160066\n"
     ]
    }
   ],
   "source": [
    "result = getNumOfInversions(Heap_total_rank)\n",
    "print('Number of Heap Inversions Is: ',result)"
   ]
  },
  {
   "cell_type": "code",
   "execution_count": 123,
   "metadata": {
    "collapsed": false
   },
   "outputs": [
    {
     "name": "stdout",
     "output_type": "stream",
     "text": [
      "Number of inversions for Source 1 is 25178902\n",
      "Number of inversions for Source 2 is 24975989\n",
      "Number of inversions for Source 3 is 25106742\n",
      "Number of inversions for Source 4 is 25202806\n"
     ]
    },
    {
     "name": "stdout",
     "output_type": "stream",
     "text": [
      "Number of inversions for Source 5 is 25016212\n",
      "Source 2 has the least amount of inversions so therefore it is the most reliable/credible source.\n"
     ]
    }
   ],
   "source": [
    "print(\"Number of inversions for Source 1 is\",getNumOfInversions(file1_adjustment))\n",
    "print(\"Number of inversions for Source 2 is\",getNumOfInversions(file2_adjustment))\n",
    "print(\"Number of inversions for Source 3 is\",getNumOfInversions(file3_adjustment))\n",
    "print(\"Number of inversions for Source 4 is\",getNumOfInversions(file4_adjustment))\n",
    "print(\"Number of inversions for Source 5 is\",getNumOfInversions(file5_adjustment))\n",
    "\n",
    "print(\"Source 2 has the least amount of inversions so therefore it is the most reliable/credible source.\")"
   ]
  },
  {
   "cell_type": "code",
   "execution_count": 0,
   "metadata": {
    "collapsed": false
   },
   "outputs": [
   ],
   "source": [
   ]
  }
 ],
 "metadata": {
  "kernelspec": {
   "display_name": "Python 3 (system-wide)",
   "language": "python",
   "metadata": {
    "cocalc": {
     "description": "Python 3 programming language",
     "priority": 100,
     "url": "https://www.python.org/"
    }
   },
   "name": "python3",
   "resource_dir": "/ext/jupyter/kernels/python3"
  },
  "language_info": {
   "codemirror_mode": {
    "name": "ipython",
    "version": 3
   },
   "file_extension": ".py",
   "mimetype": "text/x-python",
   "name": "python",
   "nbconvert_exporter": "python",
   "pygments_lexer": "ipython3",
   "version": "3.8.10"
  }
 },
 "nbformat": 4,
 "nbformat_minor": 4
}