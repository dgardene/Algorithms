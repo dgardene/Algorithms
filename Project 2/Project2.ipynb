{
 "cells": [
  {
   "cell_type": "code",
   "execution_count": 157,
   "metadata": {
    "collapsed": false
   },
   "outputs": [],
   "source": [
    "A = \"(CS 1411 - Programming Principles I)\"\n",
    "B = \"(MATH 1451 - Calculus I)\"\n",
    "C = \"(ENGL 1301 - Essentials of College Rhetoric)\"\n",
    "D = \"(CS 1412 - Programming Principles II)\"\n",
    "E = \"(MATH 1452 - Calculus II)\"\n",
    "F = \"(PHYS 1408 - Principles of Physics I)\"\n",
    "G = \"(ENGL 1302 - Advanced College Rhetoric)\"\n",
    "H = \"(CS 2413 - Data Structures)\"\n",
    "I = \"(CS 1382 - Discrete Computational Structures)\"\n",
    "J = \"(ECE 2372 - Modern Digital system Design)\"\n",
    "K = \"(MATH 2450 - Calculus III)\"\n",
    "L = \"(PHYS 2401 - Principles of Physics II)\"\n",
    "M = \"(CS 2350 - Computer Organization and Assembly Language Programming)\"\n",
    "N = \"(CS 2365 - Object-Oriented Programming)\"\n",
    "O = \"(ENGR 2392 - Engineering Ethics and its Impact on Society)\"\n",
    "P = \"(POLS 1301 - American Government)\"\n",
    "Q = \"(MATH 2360 - Linear Algebra)\"\n",
    "R = \"(ENGL 2311 - Introduction to Technical Writing)\"\n",
    "S = \"(CS 3361 - Concepts of Programming Languages)\"\n",
    "T = \"(CS 3364 - Design and Analysis of Algorithms)\"\n",
    "U = \"(MATH 3342 - Math Statistics for Engineers and Scientists)\"\n",
    "V = \"(POLS 2306 - Texas Politics and Topics)\"\n",
    "W = \"(CS 3365 - Software Engineering I)\"\n",
    "X = \"(CS 3375 - Computer Architecture)\"\n",
    "Y = \"(CS 3383 - Theory of Automata)\"\n",
    "Z = \"(CS 4365 - Software Engineering II)\"\n",
    "AA = \"(CS 4352 - Operating Systems)\"\n",
    "AB = \"(CS 4354 - Concepts of Database Systems)\"\n",
    "AC = \"(CS 4366 - Senior Capstone Project)\"\n",
    "\n",
    "adj_list = {\n",
    "    A:[],\n",
    "    B:[],\n",
    "    C:[],\n",
    "    D:[A],\n",
    "    E:[B],\n",
    "    F:[B],\n",
    "    G:[C],\n",
    "    H:[D],\n",
    "    I:[A],\n",
    "    J:[B],\n",
    "    K:[E],\n",
    "    L:[F],\n",
    "    M:[D, J],\n",
    "    N:[H],\n",
    "    O:[],\n",
    "    P:[],\n",
    "    Q:[E],\n",
    "    R:[C, G],\n",
    "    S:[H],\n",
    "    T:[H, I, Q],\n",
    "    U:[K],\n",
    "    V:[],\n",
    "    W:[N, H, U],\n",
    "    X:[M],\n",
    "    Y:[I],\n",
    "    Z:[W],\n",
    "    AA:[T, X],\n",
    "    AB:[T],\n",
    "    AC:[Z],\n",
    "}"
   ]
  },
  {
   "cell_type": "code",
   "execution_count": 158,
   "metadata": {},
   "outputs": [],
   "source": [
    "course = {}\n",
    "pre_visit = {}\n",
    "post_visit = {}\n",
    "visited = {}\n",
    "count = 0\n",
    "\n",
    "def explore(G, v):\n",
    "    global count\n",
    "    visited[v] = True\n",
    "    course[v] = v\n",
    "\n",
    "    pre_visit[v] = count\n",
    "    count += 1\n",
    "\n",
    "    for u in G[v]:\n",
    "        if not visited[u]:\n",
    "            explore(G, u)\n",
    "            \n",
    "    post_visit[v] = count\n",
    "    count += 1\n",
    "\n",
    "def dfs(G):\n",
    "    for v in G:\n",
    "        visited[v] = False\n",
    "\n",
    "    for v in G:\n",
    "        if not visited[v]:\n",
    "            explore(G, v)\n",
    "\n"
   ]
  },
  {
   "cell_type": "code",
   "execution_count": 159,
   "metadata": {
    "collapsed": false
   },
   "outputs": [
    {
     "name": "stdout",
     "output_type": "stream",
     "text": [
      "Class                                                                                                   Pre     Post \n",
      "(CS 1411 - Programming Principles I)                                 \t\t\t\t\t0        1    \n",
      "(MATH 1451 - Calculus I)                                             \t\t\t\t\t2        3    \n",
      "(ENGL 1301 - Essentials of College Rhetoric)                         \t\t\t\t\t4        5    \n",
      "(CS 1412 - Programming Principles II)                                \t\t\t\t\t6        7    \n",
      "(MATH 1452 - Calculus II)                                            \t\t\t\t\t8        9    \n",
      "(PHYS 1408 - Principles of Physics I)                                \t\t\t\t\t10       11   \n",
      "(ENGL 1302 - Advanced College Rhetoric)                              \t\t\t\t\t12       13   \n",
      "(CS 2413 - Data Structures)                                          \t\t\t\t\t14       15   \n",
      "(CS 1382 - Discrete Computational Structures)                        \t\t\t\t\t16       17   \n",
      "(ECE 2372 - Modern Digital system Design)                            \t\t\t\t\t18       19   \n",
      "(MATH 2450 - Calculus III)                                           \t\t\t\t\t20       21   \n",
      "(PHYS 2401 - Principles of Physics II)                               \t\t\t\t\t22       23   \n",
      "(CS 2350 - Computer Organization and Assembly Language Programming)  \t\t\t\t\t24       25   \n",
      "(CS 2365 - Object-Oriented Programming)                              \t\t\t\t\t26       27   \n",
      "(ENGR 2392 - Engineering Ethics and its Impact on Society)           \t\t\t\t\t28       29   \n",
      "(POLS 1301 - American Government)                                    \t\t\t\t\t30       31   \n",
      "(MATH 2360 - Linear Algebra)                                         \t\t\t\t\t32       33   \n",
      "(ENGL 2311 - Introduction to Technical Writing)                      \t\t\t\t\t34       35   \n",
      "(CS 3361 - Concepts of Programming Languages)                        \t\t\t\t\t36       37   \n",
      "(CS 3364 - Design and Analysis of Algorithms)                        \t\t\t\t\t38       39   \n",
      "(MATH 3342 - Math Statistics for Engineers and Scientists)           \t\t\t\t\t40       41   \n",
      "(POLS 2306 - Texas Politics and Topics)                              \t\t\t\t\t42       43   \n",
      "(CS 3365 - Software Engineering I)                                   \t\t\t\t\t44       45   \n",
      "(CS 3375 - Computer Architecture)                                    \t\t\t\t\t46       47   \n",
      "(CS 3383 - Theory of Automata)                                       \t\t\t\t\t48       49   \n",
      "(CS 4365 - Software Engineering II)                                  \t\t\t\t\t50       51   \n",
      "(CS 4352 - Operating Systems)                                        \t\t\t\t\t52       53   \n",
      "(CS 4354 - Concepts of Database Systems)                             \t\t\t\t\t54       55   \n",
      "(CS 4366 - Senior Capstone Project)                                  \t\t\t\t\t56       57   \n"
     ]
    }
   ],
   "source": [
    "dfs(adj_list)\n",
    "print(\"{:<104}{:<8}{:<5}\".format(\"Class\",\"Pre\", \"Post\"))\n",
    "\n",
    "for i in post_visit:\n",
    "    print(\"{:<68} \\t\\t\\t\\t\\t{:<8} {:<5}\".format(course[i],pre_visit[i], post_visit[i]))\n"
   ]
  }
 ],
 "metadata": {
  "kernelspec": {
   "display_name": "Python 3.10.4 64-bit",
   "language": "python",
   "name": "python3"
  },
  "language_info": {
   "codemirror_mode": {
    "name": "ipython",
    "version": 3
   },
   "file_extension": ".py",
   "mimetype": "text/x-python",
   "name": "python",
   "nbconvert_exporter": "python",
   "pygments_lexer": "ipython3",
   "version": "3.10.4"
  },
  "vscode": {
   "interpreter": {
    "hash": "7e6cc163205082575b47305000fdda44e270679c7b56822dea0596b7c12daa73"
   }
  }
 },
 "nbformat": 4,
 "nbformat_minor": 4
}
